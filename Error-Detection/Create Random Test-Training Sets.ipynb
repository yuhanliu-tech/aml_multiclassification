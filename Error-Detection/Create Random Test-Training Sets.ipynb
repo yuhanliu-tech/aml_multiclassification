{
 "cells": [
  {
   "cell_type": "code",
   "execution_count": 46,
   "id": "46c32724",
   "metadata": {},
   "outputs": [],
   "source": [
    "import glob\n",
    "import os\n",
    "import shutil\n",
    "import random\n",
    "\n",
    "from os import makedirs\n",
    "from os import listdir\n",
    "from shutil import copyfile\n",
    "from random import seed\n",
    "from random import random"
   ]
  },
  {
   "cell_type": "code",
   "execution_count": 47,
   "id": "fb19c276",
   "metadata": {},
   "outputs": [],
   "source": [
    "# move files back into combined\n",
    "\n",
    "def resetDatasets(filename):\n",
    "    \n",
    "    source = filename\n",
    "    destination = 'Processed Data (3 buckets)/Combined/'\n",
    " \n",
    "    # gather all files\n",
    "    allfiles = os.listdir(source)\n",
    " \n",
    "    # iterate on all files to move them to destination folder\n",
    "    for f in allfiles:\n",
    "        src_path = os.path.join(source, f)\n",
    "        dst_path = os.path.join(destination, f)\n",
    "        os.rename(src_path, dst_path)"
   ]
  },
  {
   "cell_type": "code",
   "execution_count": 48,
   "id": "bc9a0759",
   "metadata": {},
   "outputs": [],
   "source": [
    "# populate test and training folders        \n",
    "        \n",
    "def random_file_select(starts_with):\n",
    "    \n",
    "    seed(1)\n",
    "    val_ratio = 0.2\n",
    "    source = 'Processed Data (3 buckets)/Combined/'\n",
    "\n",
    "    for f in os.listdir(source):\n",
    "        if (f.startswith(starts_with)):\n",
    "            if random() < val_ratio: \n",
    "                shutil.move(os.path.abspath(source + '/' + f), 'Processed Data (3 buckets)/Test/')\n",
    "            else:\n",
    "                shutil.move(os.path.abspath(source + '/' + f), 'Processed Data (3 buckets)/Training/')\n",
    "                \n",
    "def createDatasets_3buckets():\n",
    "    \n",
    "    random_file_select('G')\n",
    "    random_file_select('O')\n",
    "    random_file_select('U')\n",
    "    \n",
    "def createDatasets_5buckets(): \n",
    "    \n",
    "    random_file_select('G')\n",
    "    random_file_select('H')\n",
    "    random_file_select('L')\n",
    "    random_file_select('C')\n",
    "    random_file_select('F')\n",
    "    "
   ]
  },
  {
   "cell_type": "code",
   "execution_count": 49,
   "id": "e1d8ee53",
   "metadata": {},
   "outputs": [],
   "source": [
    "# call methods \n",
    "# currently set to: 3 buckets\n",
    "\n",
    "resetDatasets('processed data (3 buckets)/Training/')\n",
    "resetDatasets('processed data (3 buckets)/Test/')\n",
    "createDatasets_3buckets()\n",
    "\n",
    "#resetDatasets('processed data (5 buckets)/Training/')\n",
    "#resetDatasets('processed data (5 buckets)/Test/')\n",
    "#createDatasets_5buckets()"
   ]
  }
 ],
 "metadata": {
  "kernelspec": {
   "display_name": "Python 3",
   "language": "python",
   "name": "python3"
  },
  "language_info": {
   "codemirror_mode": {
    "name": "ipython",
    "version": 3
   },
   "file_extension": ".py",
   "mimetype": "text/x-python",
   "name": "python",
   "nbconvert_exporter": "python",
   "pygments_lexer": "ipython3",
   "version": "3.8.8"
  }
 },
 "nbformat": 4,
 "nbformat_minor": 5
}
