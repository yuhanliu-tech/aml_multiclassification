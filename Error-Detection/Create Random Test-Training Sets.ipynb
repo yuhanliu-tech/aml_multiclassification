{
 "cells": [
  {
   "cell_type": "code",
   "execution_count": null,
   "id": "e0c7c151",
   "metadata": {},
   "outputs": [],
   "source": [
    "import os\n",
    "import glob"
   ]
  },
  {
   "cell_type": "code",
   "execution_count": null,
   "id": "fb437829",
   "metadata": {},
   "outputs": [],
   "source": [
    "# delete all files from test and train folders\n",
    "\n",
    "files = glob.glob('/YOUR/PATH/*')\n",
    "for f in files:\n",
    "    os.remove(f)"
   ]
  },
  {
   "cell_type": "code",
   "execution_count": null,
   "id": "8e2ab382",
   "metadata": {},
   "outputs": [],
   "source": []
  }
 ],
 "metadata": {
  "kernelspec": {
   "display_name": "Python 3",
   "language": "python",
   "name": "python3"
  },
  "language_info": {
   "codemirror_mode": {
    "name": "ipython",
    "version": 3
   },
   "file_extension": ".py",
   "mimetype": "text/x-python",
   "name": "python",
   "nbconvert_exporter": "python",
   "pygments_lexer": "ipython3",
   "version": "3.8.8"
  }
 },
 "nbformat": 4,
 "nbformat_minor": 5
}
