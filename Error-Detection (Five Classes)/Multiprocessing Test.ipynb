{
 "cells": [
  {
   "cell_type": "code",
   "execution_count": 2,
   "id": "1069d3d9",
   "metadata": {},
   "outputs": [],
   "source": [
    "#webcam image capture\n",
    "\n",
    "import cv2\n",
    "\n",
    "def cam_test():\n",
    "\n",
    "    cam = cv2.VideoCapture(0)\n",
    "\n",
    "    cv2.namedWindow(\"test\")\n",
    "\n",
    "    img_counter = 0\n",
    "\n",
    "    while True:\n",
    "        ret, frame = cam.read()\n",
    "        if not ret:\n",
    "            print(\"failed to grab frame\")\n",
    "            break\n",
    "        cv2.imshow(\"test\", frame)\n",
    "\n",
    "        k = cv2.waitKey(1)\n",
    "        if k%256 == 27:\n",
    "            # ESC pressed\n",
    "            print(\"Escape hit, closing...\")\n",
    "            break\n",
    "        elif k%256 == 32:\n",
    "            # SPACE pressed\n",
    "            img_name = \"opencv_frame_{}.png\".format(img_counter)\n",
    "            cv2.imwrite(img_name, frame)\n",
    "            print(\"{} written!\".format(img_name))\n",
    "            img_counter += 1\n",
    "\n",
    "    cam.release()\n",
    "\n",
    "    cv2.destroyAllWindows()"
   ]
  },
  {
   "cell_type": "code",
   "execution_count": 3,
   "id": "3bfb6f9d",
   "metadata": {},
   "outputs": [
    {
     "name": "stdout",
     "output_type": "stream",
     "text": [
      "0\n",
      "x\n",
      "1\n",
      "x\n",
      "2\n",
      "x\n",
      "3\n",
      "x\n",
      "4\n",
      "x\n"
     ]
    },
    {
     "data": {
      "text/plain": [
       "[None, None]"
      ]
     },
     "execution_count": 3,
     "metadata": {},
     "output_type": "execute_result"
    }
   ],
   "source": [
    "# works but await functions are needed\n",
    "\n",
    "import asyncio\n",
    "\n",
    "async def func1():\n",
    "    for i in range(5):\n",
    "        print(i)\n",
    "        await asyncio.sleep(0)  # switches tasks every iteration.\n",
    "\n",
    "async def func2():\n",
    "    for _ in range(5):\n",
    "        print('x')\n",
    "        await asyncio.sleep(0)\n",
    "\n",
    "tasks = [func1(), func2()]\n",
    "await asyncio.gather(*tasks)"
   ]
  },
  {
   "cell_type": "code",
   "execution_count": 4,
   "id": "8dc7808d",
   "metadata": {},
   "outputs": [
    {
     "name": "stdout",
     "output_type": "stream",
     "text": [
      "hi\n"
     ]
    }
   ],
   "source": [
    "from threading import Thread\n",
    "import time\n",
    "\n",
    "def fun1():\n",
    "    for i in range(5):\n",
    "        print(i)\n",
    "    \n",
    "def fun2(): \n",
    "    for _ in range(5):\n",
    "        print('x')\n",
    "\n",
    "def fun3(): \n",
    "    while (True):\n",
    "        print(\"hi\")\n",
    "        time.sleep(3)\n",
    "        \n",
    "Thread(target = cam_test).start()\n",
    "Thread(target = fun3).start()"
   ]
  }
 ],
 "metadata": {
  "kernelspec": {
   "display_name": "Python 3 (ipykernel)",
   "language": "python",
   "name": "python3"
  },
  "language_info": {
   "codemirror_mode": {
    "name": "ipython",
    "version": 3
   },
   "file_extension": ".py",
   "mimetype": "text/x-python",
   "name": "python",
   "nbconvert_exporter": "python",
   "pygments_lexer": "ipython3",
   "version": "3.10.9"
  }
 },
 "nbformat": 4,
 "nbformat_minor": 5
}
