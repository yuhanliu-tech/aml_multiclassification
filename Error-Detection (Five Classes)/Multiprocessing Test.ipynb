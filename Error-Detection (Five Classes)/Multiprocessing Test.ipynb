{
 "cells": [
  {
   "cell_type": "code",
   "execution_count": 16,
   "id": "ff585fa5",
   "metadata": {
    "scrolled": false
   },
   "outputs": [
    {
     "name": "stdout",
     "output_type": "stream",
     "text": [
      "0\n",
      "x\n",
      "1\n",
      "x\n",
      "2\n",
      "x\n",
      "3\n",
      "x\n",
      "4\n",
      "x\n"
     ]
    },
    {
     "data": {
      "text/plain": [
       "[None, None]"
      ]
     },
     "execution_count": 16,
     "metadata": {},
     "output_type": "execute_result"
    }
   ],
   "source": [
    "# works but await functions are needed\n",
    "\n",
    "import asyncio\n",
    "\n",
    "async def func1():\n",
    "    for i in range(5):\n",
    "        print(i)\n",
    "        await asyncio.sleep(0)  # switches tasks every iteration.\n",
    "\n",
    "async def func2():\n",
    "    for _ in range(5):\n",
    "        print('x')\n",
    "        await asyncio.sleep(0)\n",
    "\n",
    "tasks = [func1(), func2()]\n",
    "await asyncio.gather(*tasks)"
   ]
  },
  {
   "cell_type": "code",
   "execution_count": 17,
   "id": "e360ffdc",
   "metadata": {},
   "outputs": [],
   "source": [
    "stop_thread = False"
   ]
  },
  {
   "cell_type": "code",
   "execution_count": 18,
   "id": "6dcac8fe",
   "metadata": {},
   "outputs": [],
   "source": [
    "import cv2\n",
    "\n",
    "def cam_test():\n",
    "\n",
    "    cam = cv2.VideoCapture(0)\n",
    "\n",
    "    cv2.namedWindow(\"test\")\n",
    "\n",
    "    img_counter = 0\n",
    "\n",
    "    while True:\n",
    "        ret, frame = cam.read()\n",
    "        if not ret:\n",
    "            print(\"failed to grab frame\")\n",
    "            break\n",
    "        cv2.imshow(\"test\", frame)\n",
    "\n",
    "        k = cv2.waitKey(1)\n",
    "        if k%256 == 27:\n",
    "            # ESC pressed\n",
    "            print(\"Escape hit, closing...\")\n",
    "            break\n",
    "        elif stop_thread == True:\n",
    "            print(\"Beeping stopped, closing...\")\n",
    "            break\n",
    "\n",
    "    cam.release()\n",
    "\n",
    "    cv2.destroyAllWindows() \n",
    "    return"
   ]
  },
  {
   "cell_type": "code",
   "execution_count": 19,
   "id": "e1c9998b",
   "metadata": {},
   "outputs": [],
   "source": [
    "import time\n",
    "\n",
    "def fun3(): \n",
    "    global stop_thread\n",
    "    count = 0\n",
    "    while (True):\n",
    "        count += 1\n",
    "        print(\"beep\")\n",
    "        time.sleep(3)\n",
    "        if count == 3:\n",
    "            stop_thread = True\n",
    "            print(\"Stopping threads\")\n",
    "            break"
   ]
  },
  {
   "cell_type": "code",
   "execution_count": 20,
   "id": "f29bf7db",
   "metadata": {},
   "outputs": [
    {
     "name": "stdout",
     "output_type": "stream",
     "text": [
      "beep\n",
      "beep\n",
      "beep\n",
      "Stopping threads\n",
      "Beeping stopped, closing...\n"
     ]
    }
   ],
   "source": [
    "from threading import Thread\n",
    "        \n",
    "cam_thread = Thread(target = cam_test).start()\n",
    "beep_thread = Thread(target = fun3).start()\n",
    "\n",
    "if (stop_thread == True):\n",
    "    cam_thread.join()\n",
    "    print(\"threads killed\")\n"
   ]
  },
  {
   "cell_type": "markdown",
   "id": "c5601cd6",
   "metadata": {},
   "source": [
    "from multiprocessing import Process\n",
    "        \n",
    "\n",
    "if __name__=='__main__':\n",
    "    print(\"hello\")\n",
    "    p1 = Process(target = cam_test)\n",
    "    p1.start()\n",
    "    p2 = Process(target = fun3)\n",
    "    p2.start()\n"
   ]
  }
 ],
 "metadata": {
  "kernelspec": {
   "display_name": "Python 3 (ipykernel)",
   "language": "python",
   "name": "python3"
  },
  "language_info": {
   "codemirror_mode": {
    "name": "ipython",
    "version": 3
   },
   "file_extension": ".py",
   "mimetype": "text/x-python",
   "name": "python",
   "nbconvert_exporter": "python",
   "pygments_lexer": "ipython3",
   "version": "3.10.9"
  }
 },
 "nbformat": 4,
 "nbformat_minor": 5
}
