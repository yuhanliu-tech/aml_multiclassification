{
 "cells": [
  {
   "cell_type": "markdown",
   "id": "b0db5238",
   "metadata": {},
   "source": [
    "option 1: convert to csv file- https://pub.towardsai.net/how-to-create-a-new-custom-dataset-from-images-9b95977964ab\n",
    "\n",
    "option 2: manually process with PIL "
   ]
  },
  {
   "cell_type": "markdown",
   "id": "8a8528eb",
   "metadata": {},
   "source": [
    "current classifications: \n",
    "\n",
    "0: good (g)\n",
    "1: low pressure (l)\n",
    "2: too close (t)"
   ]
  },
  {
   "cell_type": "code",
   "execution_count": 2,
   "id": "4fddf000",
   "metadata": {},
   "outputs": [],
   "source": [
    "# option 1: "
   ]
  },
  {
   "cell_type": "code",
   "execution_count": 11,
   "id": "849cabf8",
   "metadata": {},
   "outputs": [
    {
     "name": "stdout",
     "output_type": "stream",
     "text": [
      "trainingtest/\n",
      "trainingtest/Good1.png\n",
      "['82' '82' '82' ... '81' '78' '0']\n",
      "trainingtest/Good2.png\n",
      "['113' '112' '113' ... '87' '87' '0']\n",
      "trainingtest/Good3.png\n",
      "['83' '83' '85' ... '185' '186' '0']\n",
      "trainingtest/Good4.png\n",
      "['94' '94' '94' ... '119' '119' '0']\n",
      "trainingtest/Good5.png\n",
      "['104' '105' '105' ... '103' '104' '0']\n",
      "trainingtest/Good6.png\n",
      "['124' '122' '119' ... '84' '83' '0']\n",
      "trainingtest/Good7.png\n",
      "['127' '129' '130' ... '145' '140' '0']\n",
      "trainingtest/Good8.png\n",
      "['118' '118' '120' ... '125' '125' '0']\n",
      "trainingtest/Good9.png\n",
      "['94' '95' '96' ... '101' '102' '0']\n",
      "trainingtest/Lowpressure1.png\n",
      "['49' '49' '49' ... '114' '113' '1']\n",
      "trainingtest/Lowpressure2.png\n",
      "['98' '98' '98' ... '35' '34' '1']\n",
      "trainingtest/Lowpressure3.png\n",
      "['98' '99' '100' ... '178' '181' '1']\n",
      "trainingtest/Lowpressure4.png\n",
      "['101' '102' '103' ... '174' '176' '1']\n",
      "trainingtest/Lowpressure5.png\n",
      "['120' '120' '120' ... '96' '96' '1']\n",
      "trainingtest/Tooclose1.png\n",
      "['103' '104' '105' ... '176' '177' '2']\n",
      "trainingtest/Tooclose2.png\n",
      "['105' '106' '106' ... '168' '170' '2']\n",
      "trainingtest/Tooclose3.png\n",
      "['110' '110' '112' ... '160' '160' '2']\n",
      "trainingtest/Tooclose4.png\n",
      "['108' '109' '110' ... '102' '102' '2']\n",
      "trainingtest/Tooclose5.png\n",
      "['111' '112' '113' ... '177' '178' '2']\n"
     ]
    },
    {
     "name": "stderr",
     "output_type": "stream",
     "text": [
      "<ipython-input-11-227a9db8cbec>:46: DeprecationWarning: `np.int` is a deprecated alias for the builtin `int`. To silence this warning, use `int` by itself. Doing this will not modify any behavior and is safe. When replacing `np.int`, you may wish to use e.g. `np.int64` or `np.int32` to specify the precision. If you wish to review your current use, check the release note link for additional information.\n",
      "Deprecated in NumPy 1.20; for more details and guidance: https://numpy.org/devdocs/release/1.20.0-notes.html#deprecations\n",
      "  value = np.asarray(img_grey.getdata(), dtype=np.int).reshape((width, height)) # must add third parameter 3 for RGB\n"
     ]
    }
   ],
   "source": [
    "# Convert the images into a CSV\n",
    "# Run the following code to convert all the images into a CSV and label them accordingly.\n",
    "\n",
    "from PIL import Image\n",
    "import numpy as np\n",
    "import sys\n",
    "import os\n",
    "import csv\n",
    "\n",
    "\n",
    "# default format can be changed as needed\n",
    "def createFileList(myDir, format='.png'):\n",
    "    fileList = []\n",
    "    print(myDir)\n",
    "    labels = []\n",
    "    names = []\n",
    "    keywords = {\"G\" : \"0\",\"L\": \"1\", \"T\" : \"2\"} # keys and values updated to test data\n",
    "    for root, dirs, files in os.walk(myDir, topdown=True):\n",
    "        for name in files:\n",
    "            if name.endswith(format):\n",
    "                fullName = os.path.join(root, name)\n",
    "                fileList.append(fullName)\n",
    "            for keyword in keywords:\n",
    "                if keyword in name:\n",
    "                    labels.append(keywords[keyword])\n",
    "            names.append(name)\n",
    "    return fileList, labels, names\n",
    "\n",
    "\n",
    "# load the original image\n",
    "myFileList, labels, names  = createFileList('trainingtest/')\n",
    "i = 0\n",
    "for file in myFileList:\n",
    "    print(file)\n",
    "    img_file = Image.open(file)\n",
    "    # img_file.show()\n",
    "# get original image parameters...\n",
    "    width, height = img_file.size\n",
    "    format = img_file.format\n",
    "    mode = img_file.mode\n",
    "# Make image Greyscale\n",
    "    img_grey = img_file.convert('L') # L for greyscale, RGB for colored - can probably just use greyscale later? \n",
    "    #img_grey.save('result.png')\n",
    "    #img_grey.show()\n",
    "# Save Greyscale values\n",
    "    value = np.asarray(img_grey.getdata(), dtype=np.int).reshape((width, height)) # must add third parameter 3 for RGB\n",
    "    value = value.flatten()\n",
    "    \n",
    "    value = np.append(value,labels[i])\n",
    "    i +=1\n",
    "    \n",
    "    print(value)\n",
    "    with open(\"test_data.csv\", 'a') as f: # save file as test_data.csv\n",
    "        writer = csv.writer(f)\n",
    "        writer.writerow(value)"
   ]
  },
  {
   "cell_type": "code",
   "execution_count": 13,
   "id": "19b9253e",
   "metadata": {},
   "outputs": [
    {
     "data": {
      "text/plain": [
       "<matplotlib.image.AxesImage at 0x2dbf91d63a0>"
      ]
     },
     "execution_count": 13,
     "metadata": {},
     "output_type": "execute_result"
    },
    {
     "data": {
      "image/png": "[encoded data removed]",
      "text/plain": [
       "<Figure size 432x288 with 1 Axes>"
      ]
     },
     "metadata": {
      "needs_background": "light"
     },
     "output_type": "display_data"
    }
   ],
   "source": [
    "# Load the CSV\n",
    "\n",
    "import pandas as pd\n",
    "import cv2\n",
    "import matplotlib.pyplot as plt\n",
    "import numpy as np\n",
    "from sklearn.model_selection import train_test_split\n",
    " \n",
    "dataset_path = 'test_data.csv'\n",
    "image_size=(48,48) #add 3 if RGB image\n",
    " \n",
    "def load():\n",
    "    data = pd.read_csv(dataset_path)\n",
    "    pixels = data['Pixels'].tolist()\n",
    "    width, height= 48, 48 ,# add depth 3 if RGB image\n",
    "    faces = []\n",
    "    for pixel_sequence in pixels:\n",
    "        face = [int(pixel) for pixel in pixel_sequence.split(' ')]\n",
    "        face = np.asarray(face).reshape(width, height,) #add depth if RGB image\n",
    "        a = face\n",
    "        face = np.resize(face.astype('uint8'),image_size)\n",
    "        faces.append(face.astype('float32'))\n",
    "    faces = np.asarray(faces)\n",
    "    A = faces\n",
    "    faces = np.expand_dims(faces, -1)\n",
    "    return faces, A\n",
    " \n",
    "faces,A = load()\n",
    "plt.imshow(A[0].astype(\"uint8\"))"
   ]
  }
 ],
 "metadata": {
  "kernelspec": {
   "display_name": "Python 3",
   "language": "python",
   "name": "python3"
  },
  "language_info": {
   "codemirror_mode": {
    "name": "ipython",
    "version": 3
   },
   "file_extension": ".py",
   "mimetype": "text/x-python",
   "name": "python",
   "nbconvert_exporter": "python",
   "pygments_lexer": "ipython3",
   "version": "3.8.8"
  }
 },
 "nbformat": 4,
 "nbformat_minor": 5
}
