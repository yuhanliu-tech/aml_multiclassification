{
 "cells": [
  {
   "cell_type": "markdown",
   "id": "b0db5238",
   "metadata": {},
   "source": [
    "option 1: convert to csv file- https://pub.towardsai.net/how-to-create-a-new-custom-dataset-from-images-9b95977964ab\n",
    "\n",
    "option 2: manually process with PIL "
   ]
  },
  {
   "cell_type": "markdown",
   "id": "6dec6abd",
   "metadata": {},
   "source": [
    "current classifications: \n",
    "\n",
    "0: good (g)\n",
    "1: low pressure (l)\n",
    "2: too close (t)"
   ]
  },
  {
   "cell_type": "code",
   "execution_count": 1,
   "id": "a055943f",
   "metadata": {},
   "outputs": [],
   "source": [
    "# option 1: "
   ]
  },
  {
   "cell_type": "code",
   "execution_count": 5,
   "id": "cc19eebe",
   "metadata": {},
   "outputs": [
    {
     "name": "stdout",
     "output_type": "stream",
     "text": [
      "aml_multiclassification/trainingtest/\n",
      "aml_multiclassification/trainingtest/Good1.png\n",
      "['91' '79' '95' ... '74' '83' '0']\n",
      "aml_multiclassification/trainingtest/Good2.png\n",
      "['111' '103' '180' ... '78' '138' '0']\n",
      "aml_multiclassification/trainingtest/Good3.png\n",
      "['97' '84' '88' ... '189' '166' '0']\n",
      "aml_multiclassification/trainingtest/Good4.png\n",
      "['90' '84' '167' ... '111' '162' '0']\n",
      "aml_multiclassification/trainingtest/Good5.png\n",
      "['117' '101' '106' ... '99' '101' '0']\n",
      "aml_multiclassification/trainingtest/Good6.png\n",
      "['126' '114' '185' ... '74' '136' '0']\n",
      "aml_multiclassification/trainingtest/Good7.png\n",
      "['127' '118' '190' ... '133' '174' '0']\n",
      "aml_multiclassification/trainingtest/Good8.png\n",
      "['131' '113' '115' ... '122' '116' '0']\n",
      "aml_multiclassification/trainingtest/Good9.png\n",
      "['108' '93' '98' ... '97' '99' '0']\n",
      "aml_multiclassification/trainingtest/Lowpressure1.png\n",
      "['51' '51' '32' ... '112' '74' '1']\n",
      "aml_multiclassification/trainingtest/Lowpressure2.png\n",
      "['109' '100' '68' ... '36' '20' '1']\n",
      "aml_multiclassification/trainingtest/Lowpressure3.png\n",
      "['110' '97' '103' ... '183' '152' '1']\n",
      "aml_multiclassification/trainingtest/Lowpressure4.png\n",
      "['113' '99' '105' ... '175' '145' '1']\n",
      "aml_multiclassification/trainingtest/Lowpressure5.png\n",
      "['134' '114' '112' ... '89' '110' '1']\n",
      "aml_multiclassification/trainingtest/Tooclose1.png\n",
      "['115' '101' '106' ... '178' '147' '2']\n",
      "aml_multiclassification/trainingtest/Tooclose2.png\n",
      "['117' '102' '108' ... '166' '140' '2']\n",
      "aml_multiclassification/trainingtest/Tooclose3.png\n",
      "['122' '106' '111' ... '156' '134' '2']\n",
      "aml_multiclassification/trainingtest/Tooclose4.png\n",
      "['120' '104' '111' ... '98' '99' '2']\n",
      "aml_multiclassification/trainingtest/Tooclose5.png\n",
      "['122' '107' '112' ... '177' '147' '2']\n"
     ]
    },
    {
     "name": "stderr",
     "output_type": "stream",
     "text": [
      "<ipython-input-5-e681fdcf5060>:46: DeprecationWarning: `np.int` is a deprecated alias for the builtin `int`. To silence this warning, use `int` by itself. Doing this will not modify any behavior and is safe. When replacing `np.int`, you may wish to use e.g. `np.int64` or `np.int32` to specify the precision. If you wish to review your current use, check the release note link for additional information.\n",
      "Deprecated in NumPy 1.20; for more details and guidance: https://numpy.org/devdocs/release/1.20.0-notes.html#deprecations\n",
      "  value = np.asarray(img_grey.getdata(), dtype=np.int).reshape((width, height, 3)) # must add third parameter 3 for RGB\n"
     ]
    }
   ],
   "source": [
    "# Convert the images into a CSV\n",
    "# Run the following code to convert all the images into a CSV and label them accordingly.\n",
    "\n",
    "from PIL import Image\n",
    "import numpy as np\n",
    "import sys\n",
    "import os\n",
    "import csv\n",
    "\n",
    "\n",
    "# default format can be changed as needed\n",
    "def createFileList(myDir, format='.png'):\n",
    "    fileList = []\n",
    "    print(myDir)\n",
    "    labels = []\n",
    "    names = []\n",
    "    keywords = {\"G\" : \"0\",\"L\": \"1\", \"T\" : \"2\"} # keys and values updated to test data\n",
    "    for root, dirs, files in os.walk(myDir, topdown=True):\n",
    "        for name in files:\n",
    "            if name.endswith(format):\n",
    "                fullName = os.path.join(root, name)\n",
    "                fileList.append(fullName)\n",
    "            for keyword in keywords:\n",
    "                if keyword in name:\n",
    "                    labels.append(keywords[keyword])\n",
    "            names.append(name)\n",
    "    return fileList, labels, names\n",
    "\n",
    "\n",
    "# load the original image\n",
    "myFileList, labels, names  = createFileList('aml_multiclassification/trainingtest/')\n",
    "i = 0\n",
    "for file in myFileList:\n",
    "    print(file)\n",
    "    img_file = Image.open(file)\n",
    "    # img_file.show()\n",
    "# get original image parameters...\n",
    "    width, height = img_file.size\n",
    "    format = img_file.format\n",
    "    mode = img_file.mode\n",
    "# Make image Greyscale\n",
    "    img_grey = img_file.convert('RGB') # L for greyscale, RGB for colored - can probably just use greyscale later? \n",
    "    #img_grey.save('result.png')\n",
    "    #img_grey.show()\n",
    "# Save Greyscale values\n",
    "    value = np.asarray(img_grey.getdata(), dtype=np.int).reshape((width, height, 3)) # must add third parameter 3 for RGB\n",
    "    value = value.flatten()\n",
    "    \n",
    "    value = np.append(value,labels[i])\n",
    "    i +=1\n",
    "    \n",
    "    print(value)\n",
    "    with open(\"test_data.csv\", 'a') as f: # save file as test_data.csv\n",
    "        writer = csv.writer(f)\n",
    "        writer.writerow(value)"
   ]
  },
  {
   "cell_type": "code",
   "execution_count": 12,
   "id": "6775b3a8",
   "metadata": {},
   "outputs": [
    {
     "data": {
      "text/plain": [
       "<matplotlib.image.AxesImage at 0x1e0828b85b0>"
      ]
     },
     "execution_count": 12,
     "metadata": {},
     "output_type": "execute_result"
    },
    {
     "data": {
      "image/png": "[encoded data removed]",
      "text/plain": [
       "<Figure size 432x288 with 1 Axes>"
      ]
     },
     "metadata": {
      "needs_background": "light"
     },
     "output_type": "display_data"
    }
   ],
   "source": [
    "# Load the CSV\n",
    "\n",
    "import pandas as pd\n",
    "import cv2\n",
    "import matplotlib.pyplot as plt\n",
    "import numpy as np\n",
    "from sklearn.model_selection import train_test_split\n",
    " \n",
    "dataset_path = 'test_data.csv'\n",
    "image_size=(32,32,3) #add 3 if RGB image\n",
    " \n",
    "def load():\n",
    "    data = pd.read_csv(dataset_path)\n",
    "    pixels = data['Pixels'].tolist()\n",
    "    width, height, depth= 32, 32 ,3 # add depth 3 if RGB image\n",
    "    faces = []\n",
    "    for pixel_sequence in pixels:\n",
    "        face = [int(pixel) for pixel in pixel_sequence.split(' ')]\n",
    "        face = np.asarray(face).reshape(width, height, depth) #add depth if RGB image\n",
    "        a = face\n",
    "        face = np.resize(face.astype('uint8'),image_size)\n",
    "        faces.append(face.astype('float32'))\n",
    "    faces = np.asarray(faces)\n",
    "    A = faces\n",
    "    faces = np.expand_dims(faces, -1)\n",
    "    return faces, A\n",
    " \n",
    "faces,A = load()\n",
    "plt.imshow(A[0].astype(\"uint8\"))"
   ]
  }
 ],
 "metadata": {
  "kernelspec": {
   "display_name": "Python 3",
   "language": "python",
   "name": "python3"
  },
  "language_info": {
   "codemirror_mode": {
    "name": "ipython",
    "version": 3
   },
   "file_extension": ".py",
   "mimetype": "text/x-python",
   "name": "python",
   "nbconvert_exporter": "python",
   "pygments_lexer": "ipython3",
   "version": "3.8.8"
  }
 },
 "nbformat": 4,
 "nbformat_minor": 5
}
